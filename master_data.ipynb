{
 "cells": [
  {
   "cell_type": "code",
   "execution_count": 1,
   "metadata": {},
   "outputs": [],
   "source": [
    "import pandas as pd\n",
    "import numpy as np\n",
    "import pickle\n",
    "from sklearn.decomposition import TruncatedSVD\n",
    "from scipy.sparse import csr_matrix"
   ]
  },
  {
   "cell_type": "markdown",
   "metadata": {},
   "source": [
    "### bow - transform"
   ]
  },
  {
   "cell_type": "code",
   "execution_count": null,
   "metadata": {},
   "outputs": [],
   "source": [
    "with open(\"bow_matrix\",'rb') as file:\n",
    "    bow_matrix = pickle.load(file)\n",
    "with open(\"bow_matrix_par\",'rb') as file:\n",
    "    bow_matrix_par = pickle.load(file)"
   ]
  },
  {
   "cell_type": "code",
   "execution_count": null,
   "metadata": {},
   "outputs": [],
   "source": [
    "# my computer cannot handle more than 150 components\n",
    "tsvd = TruncatedSVD(n_components=150)\n",
    "tsvd2 = TruncatedSVD(n_components=150)"
   ]
  },
  {
   "cell_type": "code",
   "execution_count": null,
   "metadata": {},
   "outputs": [],
   "source": [
    "bow_matrix_dense = tsvd.fit_transform(bow_matrix)\n",
    "bow_matrix_par_dense = tsvd2.fit_transform(bow_matrix_par)"
   ]
  },
  {
   "cell_type": "code",
   "execution_count": null,
   "metadata": {},
   "outputs": [],
   "source": [
    "print(tsvd.explained_variance_.sum(),\n",
    "      tsvd2.explained_variance_.sum())"
   ]
  },
  {
   "cell_type": "code",
   "execution_count": 2,
   "metadata": {},
   "outputs": [],
   "source": [
    "# if already saved, else the following cell is to be used\n",
    "with open(\"bow_matrix_dense\",'rb') as file:\n",
    "    bow_matrix_dense = pickle.load(file)\n",
    "with open(\"bow_matrix_par_dense\",'rb') as file:\n",
    "    bow_matrix_par_dense = pickle.load(file)"
   ]
  },
  {
   "cell_type": "code",
   "execution_count": null,
   "metadata": {},
   "outputs": [],
   "source": [
    "# pickle.dump(bow_matrix_dense, open(\"bow_matrix_dense\", \"wb\"),\n",
    "#            protocol=pickle.HIGHEST_PROTOCOL)\n",
    "# pickle.dump(bow_matrix_par_dense, open(\"bow_matrix_par_dense\", \"wb\"),\n",
    "#            protocol=pickle.HIGHEST_PROTOCOL)"
   ]
  },
  {
   "cell_type": "code",
   "execution_count": 3,
   "metadata": {},
   "outputs": [],
   "source": [
    "with open(\"pos_matrix\",'rb') as file:\n",
    "    pos_matrix = pickle.load(file)\n",
    "with open(\"pos_matrix_par\",'rb') as file:\n",
    "    pos_matrix_par = pickle.load(file)\n",
    "with open(\"lexical_parent\",'rb') as file:\n",
    "    lexical_parent = pickle.load(file)\n",
    "with open(\"lexical\",'rb') as file:\n",
    "    lexical = pickle.load(file)\n",
    "with open(\"com_to_par_sim\",'rb') as file:\n",
    "    com_to_par_sim = pickle.load(file)\n",
    "with open(\"orig_simil\",'rb') as file:\n",
    "    orig_simil = pickle.load(file)\n",
    "with open(\"par_simil\",'rb') as file:\n",
    "    par_simil = pickle.load(file)\n",
    "with open(\"orig_sentiment\",'rb') as file:\n",
    "    orig_sentiment = pickle.load(file)\n",
    "with open(\"par_sentiment\",'rb') as file:\n",
    "    par_sentiment = pickle.load(file)\n",
    "with open(\"user_similarity\",'rb') as file:\n",
    "    user_similarity = pickle.load(file)"
   ]
  },
  {
   "cell_type": "markdown",
   "metadata": {},
   "source": [
    "### master data - bow, all pos"
   ]
  },
  {
   "cell_type": "code",
   "execution_count": null,
   "metadata": {},
   "outputs": [],
   "source": [
    "orig_simil[100]"
   ]
  },
  {
   "cell_type": "code",
   "execution_count": 8,
   "metadata": {},
   "outputs": [
    {
     "data": {
      "text/plain": [
       "(1010773, 34)"
      ]
     },
     "execution_count": 8,
     "metadata": {},
     "output_type": "execute_result"
    }
   ],
   "source": [
    "pos_matrix.get_shape()"
   ]
  },
  {
   "cell_type": "code",
   "execution_count": null,
   "metadata": {},
   "outputs": [],
   "source": [
    "df1 = np.array(par_sentiment).reshape(-1, 5) \n",
    "df2 = np.array(orig_sentiment).reshape(-1, 5)\n",
    "df3 = np.array(par_simil).reshape(-1, 4)\n",
    "df4 = np.array(orig_simil).reshape(-1, 4)\n",
    "df5 = np.array(com_to_par_sim).reshape(-1, 1)\n",
    "df6 = np.array(lexical).reshape(-1, 6)\n",
    "df7 = np.array(lexical_parent).reshape(-1, 6)\n",
    "df8 = pos_matrix.toarray()\n",
    "df9 = pos_matrix_par.toarray()\n",
    "df10 = np.array(user_similarity).reshape(-1, 1)"
   ]
  },
  {
   "cell_type": "code",
   "execution_count": null,
   "metadata": {},
   "outputs": [],
   "source": [
    "df = np.hstack((df1, df2, df3, df4, df5, df6, df7, df8, df9, df10,\n",
    "               bow_matrix_dense, bow_matrix_par_dense))"
   ]
  },
  {
   "cell_type": "code",
   "execution_count": null,
   "metadata": {},
   "outputs": [],
   "source": [
    "df.shape"
   ]
  },
  {
   "cell_type": "code",
   "execution_count": null,
   "metadata": {},
   "outputs": [],
   "source": [
    "del df1, df2, df3, df4, df5, df6, df7, df8, df9"
   ]
  },
  {
   "cell_type": "code",
   "execution_count": null,
   "metadata": {},
   "outputs": [],
   "source": [
    "pickle.dump(df, open(\"master_data\", \"wb\"),\n",
    "            protocol=pickle.HIGHEST_PROTOCOL)"
   ]
  },
  {
   "cell_type": "markdown",
   "metadata": {},
   "source": [
    "### adding context to master data"
   ]
  },
  {
   "cell_type": "code",
   "execution_count": 2,
   "metadata": {},
   "outputs": [],
   "source": [
    "with open(\"master_data\",'rb') as file:\n",
    "    master_data = pickle.load(file)\n",
    "with open(\"subreddit_prevalence\",'rb') as file:\n",
    "    subreddit_prevalence = pickle.load(file)"
   ]
  },
  {
   "cell_type": "code",
   "execution_count": null,
   "metadata": {},
   "outputs": [],
   "source": [
    "df = np.hstack((master_data, subreddit_prevalence))"
   ]
  },
  {
   "cell_type": "code",
   "execution_count": null,
   "metadata": {},
   "outputs": [],
   "source": [
    "pickle.dump(df, open(\"master_data_all\", \"wb\"),\n",
    "            protocol=pickle.HIGHEST_PROTOCOL)"
   ]
  }
 ],
 "metadata": {
  "kernelspec": {
   "display_name": "Python 3",
   "language": "python",
   "name": "python3"
  },
  "language_info": {
   "codemirror_mode": {
    "name": "ipython",
    "version": 3
   },
   "file_extension": ".py",
   "mimetype": "text/x-python",
   "name": "python",
   "nbconvert_exporter": "python",
   "pygments_lexer": "ipython3",
   "version": "3.6.5"
  }
 },
 "nbformat": 4,
 "nbformat_minor": 2
}
