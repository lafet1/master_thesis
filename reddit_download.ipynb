{
 "cells": [
  {
   "cell_type": "code",
   "execution_count": 1,
   "metadata": {},
   "outputs": [],
   "source": [
    "import praw\n",
    "import pandas as pd\n",
    "import urllib3\n",
    "import pickle"
   ]
  },
  {
   "cell_type": "markdown",
   "metadata": {},
   "source": [
    "## setting up connection"
   ]
  },
  {
   "cell_type": "code",
   "execution_count": 2,
   "metadata": {},
   "outputs": [],
   "source": [
    "reddit = praw.Reddit(client_id='GrIVndpEmtNjdg',\n",
    "                     client_secret='-Io9AEQZhxREEocZlxASqZUNLLs',\n",
    "                     user_agent='master thesis shit')"
   ]
  },
  {
   "cell_type": "markdown",
   "metadata": {},
   "source": [
    "#### prototyping"
   ]
  },
  {
   "cell_type": "code",
   "execution_count": null,
   "metadata": {},
   "outputs": [],
   "source": [
    "submission = reddit.submission(\n",
    "    url='https://www.reddit.com/r/funny/comments/3g1jfi/buttons/')"
   ]
  },
  {
   "cell_type": "code",
   "execution_count": null,
   "metadata": {},
   "outputs": [],
   "source": [
    "for top_level_comment in submission.comments:\n",
    "    print(top_level_comment.body)"
   ]
  },
  {
   "cell_type": "code",
   "execution_count": null,
   "metadata": {},
   "outputs": [],
   "source": [
    "ups = []\n",
    "downs = []\n",
    "text = []\n",
    "\n",
    "for c in reddit.redditor('Creepeth').comments.new(limit=100):\n",
    "    comment = c.body\n",
    "    comment = comment.replace('\\n',' ')\n",
    "    text.append(comment)\n",
    "    #ups.append(c.ups)\n",
    "    #downs.append(c.downs)"
   ]
  },
  {
   "cell_type": "code",
   "execution_count": null,
   "metadata": {},
   "outputs": [],
   "source": [
    "print(ups, downs, text)"
   ]
  },
  {
   "cell_type": "markdown",
   "metadata": {},
   "source": [
    "### loading data"
   ]
  },
  {
   "cell_type": "code",
   "execution_count": 3,
   "metadata": {},
   "outputs": [],
   "source": [
    "data = pd.read_csv('data/train-balanced-sarcasm.csv')\n",
    "data = data.dropna()"
   ]
  },
  {
   "cell_type": "code",
   "execution_count": 4,
   "metadata": {},
   "outputs": [],
   "source": [
    "authors = data.author.unique()"
   ]
  },
  {
   "cell_type": "code",
   "execution_count": 5,
   "metadata": {},
   "outputs": [],
   "source": [
    "authors.sort()"
   ]
  },
  {
   "cell_type": "code",
   "execution_count": 6,
   "metadata": {},
   "outputs": [],
   "source": [
    "def get_comments(authors):\n",
    "    '''Loads newest comment per all authors in dictionary'''\n",
    "    dict_text = {}\n",
    "\n",
    "    for i, author in enumerate(authors):\n",
    "        text = []\n",
    "        try:\n",
    "            instance = reddit.redditor(\n",
    "                author).comments.new(limit=100)\n",
    "            for c in instance:\n",
    "                text.append(c.body)\n",
    "            dict_text[author] = text\n",
    "\n",
    "        except:\n",
    "            dict_text[author] = None\n",
    "            \n",
    "        if ((i+1) % 100 == 0) & (i < max(enumerate(authors))[0]):\n",
    "            filename = \"data/authors/\" + author\n",
    "            fileobj = open(filename, 'wb')\n",
    "            pickle.dump(dict_text, fileobj)\n",
    "            fileobj.close()\n",
    "            dict_text = {}"
   ]
  },
  {
   "cell_type": "code",
   "execution_count": 7,
   "metadata": {},
   "outputs": [],
   "source": [
    "# comments were downloaded in batches\n",
    "get_comments(authors[210001:])"
   ]
  },
  {
   "cell_type": "code",
   "execution_count": null,
   "metadata": {},
   "outputs": [],
   "source": [
    "file = open(\"data/authors/99\",'rb')\n",
    "object_file = pickle.load(file)\n",
    "file.close()\n",
    "print(object_file)"
   ]
  },
  {
   "cell_type": "code",
   "execution_count": null,
   "metadata": {},
   "outputs": [],
   "source": [
    "pickle.load(\"data/authors/199\")"
   ]
  }
 ],
 "metadata": {
  "kernelspec": {
   "display_name": "Python 3",
   "language": "python",
   "name": "python3"
  },
  "language_info": {
   "codemirror_mode": {
    "name": "ipython",
    "version": 3
   },
   "file_extension": ".py",
   "mimetype": "text/x-python",
   "name": "python",
   "nbconvert_exporter": "python",
   "pygments_lexer": "ipython3",
   "version": "3.6.5"
  }
 },
 "nbformat": 4,
 "nbformat_minor": 2
}
