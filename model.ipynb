{
 "cells": [
  {
   "cell_type": "code",
   "execution_count": 1,
   "metadata": {},
   "outputs": [],
   "source": [
    "import pandas as pd\n",
    "import numpy as np\n",
    "import pickle\n",
    "import torch\n",
    "import torch.nn as nn"
   ]
  },
  {
   "cell_type": "markdown",
   "metadata": {},
   "source": [
    "## load data"
   ]
  },
  {
   "cell_type": "code",
   "execution_count": 2,
   "metadata": {},
   "outputs": [],
   "source": [
    "data = pd.read_csv('data/train-balanced-sarcasm.csv')\n",
    "data = data.dropna().reset_index(drop=True)\n",
    "y = np.asarray(data['label'])"
   ]
  },
  {
   "cell_type": "code",
   "execution_count": 5,
   "metadata": {},
   "outputs": [
    {
     "name": "stdout",
     "output_type": "stream",
     "text": [
      "(1010773,)\n"
     ]
    }
   ],
   "source": [
    "print(y.shape)"
   ]
  },
  {
   "cell_type": "code",
   "execution_count": 6,
   "metadata": {},
   "outputs": [],
   "source": [
    "del data"
   ]
  },
  {
   "cell_type": "code",
   "execution_count": 7,
   "metadata": {},
   "outputs": [],
   "source": [
    "np.random.seed(1001)\n",
    "mask = np.random.rand((len(y)))"
   ]
  },
  {
   "cell_type": "code",
   "execution_count": 8,
   "metadata": {},
   "outputs": [],
   "source": [
    "with open(\"master_data_all\",'rb') as df:\n",
    "    master_data = pickle.load(df)"
   ]
  },
  {
   "cell_type": "code",
   "execution_count": 9,
   "metadata": {},
   "outputs": [],
   "source": [
    "# this cell is used for subsets\n",
    "# master_data = np.hstack((master_data[:, 10:19], master_data[:, 100:]))"
   ]
  },
  {
   "cell_type": "code",
   "execution_count": 10,
   "metadata": {},
   "outputs": [],
   "source": [
    "df = torch.from_numpy(master_data[mask <= 0.7])\n",
    "df_valid = torch.from_numpy(master_data[(mask > 0.7) & (mask <= 0.85)])\n",
    "df_test = torch.from_numpy(master_data[mask > 0.85])\n",
    "del master_data"
   ]
  },
  {
   "cell_type": "code",
   "execution_count": 11,
   "metadata": {},
   "outputs": [
    {
     "data": {
      "text/plain": [
       "torch.Tensor"
      ]
     },
     "execution_count": 11,
     "metadata": {},
     "output_type": "execute_result"
    }
   ],
   "source": [
    "type(df)"
   ]
  },
  {
   "cell_type": "code",
   "execution_count": 12,
   "metadata": {},
   "outputs": [
    {
     "name": "stdout",
     "output_type": "stream",
     "text": [
      "torch.Size([151379, 401]) torch.Size([151640, 401]) torch.Size([707754, 401])\n"
     ]
    }
   ],
   "source": [
    "print(df_valid.shape, df_test.shape, df.shape)"
   ]
  },
  {
   "cell_type": "code",
   "execution_count": 13,
   "metadata": {},
   "outputs": [
    {
     "name": "stdout",
     "output_type": "stream",
     "text": [
      "0.5001320771330457 0.49935379490086634 0.4999078263203839\n"
     ]
    }
   ],
   "source": [
    "print(sum(y[mask <= 0.70])/(len(y)*0.70), \n",
    "      sum(y[(mask > 0.7) & (mask <= 0.85)])/(len(y)*0.15),\n",
    "     sum(y[mask > 0.85])/(len(y)*0.15))"
   ]
  },
  {
   "cell_type": "code",
   "execution_count": 14,
   "metadata": {},
   "outputs": [],
   "source": [
    "Y = torch.from_numpy(y[mask <= 0.70])\n",
    "Y_valid = torch.from_numpy(y[(mask > 0.7) & (mask <= 0.85)])\n",
    "Y_test = torch.from_numpy(y[mask > 0.85])"
   ]
  },
  {
   "cell_type": "code",
   "execution_count": 15,
   "metadata": {},
   "outputs": [
    {
     "name": "stdout",
     "output_type": "stream",
     "text": [
      "torch.Size([151379]) torch.Size([151640]) torch.Size([707754])\n"
     ]
    }
   ],
   "source": [
    "print(Y_valid.shape, Y_test.shape, Y.shape)"
   ]
  },
  {
   "cell_type": "markdown",
   "metadata": {},
   "source": [
    "## pytorch net"
   ]
  },
  {
   "cell_type": "code",
   "execution_count": 16,
   "metadata": {},
   "outputs": [],
   "source": [
    "from torch.utils.data import TensorDataset, DataLoader\n",
    "from torch.optim.lr_scheduler import MultiStepLR"
   ]
  },
  {
   "cell_type": "code",
   "execution_count": 22,
   "metadata": {},
   "outputs": [],
   "source": [
    "torch.manual_seed(1001)\n",
    "\n",
    "input_dim = df.shape[1]\n",
    "output_dim = 1\n",
    "train_len = df.shape[0]\n",
    "device = torch.device(\"cuda:0\" if torch.cuda.is_available()\n",
    "                      else \"cpu\")\n",
    "\n",
    "train = TensorDataset(df, Y)\n",
    "trainloader = DataLoader(train,\n",
    "                         batch_size=500,\n",
    "                         shuffle=True,\n",
    "                         num_workers=2)\n",
    "\n",
    "net = torch.nn.Sequential(\n",
    "    torch.nn.Linear(input_dim, 256),\n",
    "    torch.nn.PReLU(),\n",
    "    torch.nn.Dropout(0.3),\n",
    "    torch.nn.Linear(256, 128),\n",
    "    torch.nn.PReLU(),\n",
    "    torch.nn.Dropout(0.2),\n",
    "    torch.nn.Linear(128, 64),\n",
    "    torch.nn.PReLU(),\n",
    "    torch.nn.Dropout(0.2),\n",
    "    torch.nn.Linear(64, 2),\n",
    "    torch.nn.Sigmoid()\n",
    ")\n",
    "\n",
    "loss_fn = torch.nn.CrossEntropyLoss()\n",
    "lr = 1e-3\n",
    "optimizer = torch.optim.Adam(net.parameters(), lr=lr,\n",
    "                            weight_decay=1e-3/3)\n",
    "scheduler = MultiStepLR(optimizer, milestones=[50, 80], gamma=0.1)\n",
    "epochs = 100"
   ]
  },
  {
   "cell_type": "code",
   "execution_count": null,
   "metadata": {},
   "outputs": [],
   "source": [
    "for m in net.modules():\n",
    "    if type(m) in [nn.Linear]:\n",
    "        nn.init.kaiming_normal_(m.weight.data, a=0.1,\n",
    "                                mode='fan_in', nonlinearity='leaky_relu')"
   ]
  },
  {
   "cell_type": "code",
   "execution_count": null,
   "metadata": {},
   "outputs": [],
   "source": [
    "for epoch in range(epochs):\n",
    "    scheduler.step()\n",
    "    running_loss = 0\n",
    "    for i, data in enumerate(trainloader, 0):\n",
    "        inputs, labels = data\n",
    "        net.to(device)\n",
    "        inputs, labels = inputs.float(), labels.long()\n",
    "        \n",
    "        #clear grads\n",
    "        optimizer.zero_grad()\n",
    "        \n",
    "        #forward to get predicted values\n",
    "        outputs = net.forward(inputs)\n",
    "        loss = loss_fn(outputs, labels)\n",
    "        loss.backward()\n",
    "        \n",
    "        # back props \n",
    "        optimizer.step()\n",
    "        # update the parameters\n",
    "        running_loss += loss.item()\n",
    "        \n",
    "    print('epoch {}, loss {}' \\\n",
    "          .format(epoch + 1, running_loss / (train_len / 5000))) "
   ]
  },
  {
   "cell_type": "code",
   "execution_count": 30,
   "metadata": {},
   "outputs": [
    {
     "data": {
      "text/plain": [
       "Sequential(\n",
       "  (0): Linear(in_features=401, out_features=256, bias=True)\n",
       "  (1): PReLU(num_parameters=1)\n",
       "  (2): Dropout(p=0.3)\n",
       "  (3): Linear(in_features=256, out_features=128, bias=True)\n",
       "  (4): PReLU(num_parameters=1)\n",
       "  (5): Dropout(p=0.2)\n",
       "  (6): Linear(in_features=128, out_features=64, bias=True)\n",
       "  (7): PReLU(num_parameters=1)\n",
       "  (8): Dropout(p=0.2)\n",
       "  (9): Linear(in_features=64, out_features=2, bias=True)\n",
       "  (10): Sigmoid()\n",
       ")"
      ]
     },
     "execution_count": 30,
     "metadata": {},
     "output_type": "execute_result"
    }
   ],
   "source": [
    "net.eval()"
   ]
  },
  {
   "cell_type": "code",
   "execution_count": 31,
   "metadata": {},
   "outputs": [
    {
     "name": "stdout",
     "output_type": "stream",
     "text": [
      "Accuracy of the network on the ~750000 train comments: 73.46238947430886 % and F1 score is: 0.7277060714176982  and the CM values are:\n",
      " true positive: 250976  \n",
      " false positive: 84933  \n",
      " true negative: 268957  \n",
      " false negative: 102888 \n"
     ]
    }
   ],
   "source": [
    "# TRAINING ACCURACY\n",
    "\n",
    "with torch.no_grad():\n",
    "    correct = 0\n",
    "    total = 0\n",
    "    tp, fp, fn, tn = 0, 0, 0, 0\n",
    "    for i, data in enumerate(trainloader, 0): \n",
    "        inputs, labels = data \n",
    "        net.to(device) \n",
    "        inputs, labels = inputs.float(), labels.long()\n",
    "        \n",
    "        outputs = net(inputs)\n",
    "        _, predicted = torch.max(outputs.data, 1)\n",
    "        total += labels.size(0)\n",
    "        correct += (predicted == labels).sum().item()\n",
    "        tp += (predicted[labels == 1] == labels[labels == 1]).sum().item()\n",
    "        fn += (predicted[labels == 1] != labels[labels == 1]).sum().item()\n",
    "        fp += (predicted[labels == 0] != labels[labels == 0]).sum().item()\n",
    "        tn += (predicted[labels == 0] == labels[labels == 0]).sum().item()\n",
    "        precision, recall = (tp / (tp+fp)), (tp / (tp+fn))\n",
    "        f1 = 2 * (precision * recall) / (precision + recall)\n",
    "\n",
    "print('Accuracy of the network on the ~750000 train comments: {} %' \\\n",
    "      .format(100 * correct / total), \\\n",
    "      'and F1 score is: {} '.format(f1), 'and the CM values are:' \\\n",
    "      '\\n true positive: {} '.format(tp), \\\n",
    "     '\\n false positive: {} '.format(fp), \\\n",
    "     '\\n true negative: {} '.format(tn), \\\n",
    "     '\\n false negative: {} '.format(fn))"
   ]
  },
  {
   "cell_type": "code",
   "execution_count": 32,
   "metadata": {},
   "outputs": [
    {
     "name": "stdout",
     "output_type": "stream",
     "text": [
      "Accuracy of the network on the ~150000 validaton comments: 69.89542803162922 % and F1 score is: 0.691914548404543  and the CM values are:\n",
      " true positive: 51174  \n",
      " false positive: 21036  \n",
      " true negative: 54633  \n",
      " false negative: 24536 \n"
     ]
    }
   ],
   "source": [
    "# VALIDATION ACCURACY\n",
    "\n",
    "valid = TensorDataset(df_valid, Y_valid)\n",
    "validloader = DataLoader(valid,\n",
    "                        batch_size=500) \n",
    "\n",
    "with torch.no_grad():\n",
    "    correct = 0\n",
    "    total = 0\n",
    "    tp, fp, fn, tn = 0, 0, 0, 0\n",
    "    for i, data in enumerate(validloader, 0): \n",
    "        inputs, labels = data \n",
    "        net.to(device) \n",
    "        inputs, labels = inputs.float(), labels.long()\n",
    "        \n",
    "        outputs = net(inputs)\n",
    "        _, predicted = torch.max(outputs.data, 1)\n",
    "        total += labels.size(0)\n",
    "        correct += (predicted == labels).sum().item()\n",
    "        tp += (predicted[labels == 1] == labels[labels == 1]).sum().item()\n",
    "        fn += (predicted[labels == 1] != labels[labels == 1]).sum().item()\n",
    "        fp += (predicted[labels == 0] != labels[labels == 0]).sum().item()\n",
    "        tn += (predicted[labels == 0] == labels[labels == 0]).sum().item()\n",
    "        precision, recall = (tp / (tp+fp)), (tp / (tp+fn))\n",
    "        f1 = 2 * (precision * recall) / (precision + recall)\n",
    "\n",
    "print('Accuracy of the network on the ~150000 validaton comments: {} %' \\\n",
    "      .format(100 * correct / total), \\\n",
    "      'and F1 score is: {} '.format(f1), 'and the CM values are:' \\\n",
    "      '\\n true positive: {} '.format(tp), \\\n",
    "     '\\n false positive: {} '.format(fp), \\\n",
    "     '\\n true negative: {} '.format(tn), \\\n",
    "     '\\n false negative: {} '.format(fn))"
   ]
  },
  {
   "cell_type": "code",
   "execution_count": 33,
   "metadata": {},
   "outputs": [
    {
     "name": "stdout",
     "output_type": "stream",
     "text": [
      "Accuracy of the network on the ~150000 test comments: 69.49024004220523 % and F1 score is: 0.6869438711641912  and the CM values are:\n",
      " true positive: 50760  \n",
      " false positive: 21231  \n",
      " true negative: 54615  \n",
      " false negative: 25034 \n"
     ]
    }
   ],
   "source": [
    "# TESTING ACCURACY\n",
    "\n",
    "test = TensorDataset(df_test, Y_test)\n",
    "testloader = DataLoader(test,\n",
    "                        batch_size=500) \n",
    "\n",
    "with torch.no_grad():\n",
    "    correct = 0\n",
    "    total = 0\n",
    "    tp, fp, fn, tn = 0, 0, 0, 0\n",
    "    for i, data in enumerate(testloader, 0): \n",
    "        inputs, labels = data \n",
    "        net.to(device) \n",
    "        inputs, labels = inputs.float(), labels.long()\n",
    "        \n",
    "        outputs = net(inputs)\n",
    "        _, predicted = torch.max(outputs.data, 1)\n",
    "        total += labels.size(0)\n",
    "        correct += (predicted == labels).sum().item()\n",
    "        tp += (predicted[labels == 1] == labels[labels == 1]).sum().item()\n",
    "        fn += (predicted[labels == 1] != labels[labels == 1]).sum().item()\n",
    "        fp += (predicted[labels == 0] != labels[labels == 0]).sum().item()\n",
    "        tn += (predicted[labels == 0] == labels[labels == 0]).sum().item()\n",
    "        precision, recall = (tp / (tp+fp)), (tp / (tp+fn))\n",
    "        f1 = 2 * (precision * recall) / (precision + recall)\n",
    "\n",
    "print('Accuracy of the network on the ~150000 test comments: {} %' \\\n",
    "      .format(100 * correct / total), \\\n",
    "      'and F1 score is: {} '.format(f1), 'and the CM values are:' \\\n",
    "      '\\n true positive: {} '.format(tp), \\\n",
    "     '\\n false positive: {} '.format(fp), \\\n",
    "     '\\n true negative: {} '.format(tn), \\\n",
    "     '\\n false negative: {} '.format(fn))"
   ]
  },
  {
   "cell_type": "code",
   "execution_count": null,
   "metadata": {},
   "outputs": [],
   "source": [
    "torch.save(net.state_dict(), \n",
    "           './models/NN_weights_100e_decay_50_80_w_decay_lrelu.pt')"
   ]
  }
 ],
 "metadata": {
  "kernelspec": {
   "display_name": "Python 3",
   "language": "python",
   "name": "python3"
  },
  "language_info": {
   "codemirror_mode": {
    "name": "ipython",
    "version": 3
   },
   "file_extension": ".py",
   "mimetype": "text/x-python",
   "name": "python",
   "nbconvert_exporter": "python",
   "pygments_lexer": "ipython3",
   "version": "3.6.5"
  }
 },
 "nbformat": 4,
 "nbformat_minor": 2
}
